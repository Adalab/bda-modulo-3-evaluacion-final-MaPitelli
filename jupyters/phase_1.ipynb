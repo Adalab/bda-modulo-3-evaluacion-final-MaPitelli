{
 "cells": [
  {
   "cell_type": "markdown",
   "metadata": {},
   "source": [
    "# Evaluación Final Módulo 3"
   ]
  },
  {
   "cell_type": "markdown",
   "metadata": {},
   "source": [
    "## Fase 1: Exploración y Limpieza \n",
    "\n",
    "1. Exploración Inicial:\n",
    "    * Realiza una exploración inicial de los datos para identificar posibles problemas, como valores nulos, atípicos o datos faltantes en las columnas relevantes.\n",
    "    * Utiliza funciones de Pandas para obtener información sobre la estructura de los datos, la presencia de valores nulos y estadísticas básicas de las columnas involucradas.\n",
    "    * Une los dos conjuntos de datos de la forma más eficiente. \n",
    "\n",
    "2. LimpiezadeDatos:\n",
    "    * Elimina o trata los valores nulos, si los hay, en las columnas clave para asegurar que los datos estén completos. Verifica la consistencia y corrección de los datos para asegurarte de que los datos se presenten de forma coherente.\n",
    "    * Realiza cualquier ajuste o conversión necesaria en las columnas (por ejemplo, cambiar tipos de datos) para garantizar la adecuación de los datos para el análisis estadístico."
   ]
  },
  {
   "cell_type": "markdown",
   "metadata": {},
   "source": [
    "### importamos las librerías que necesitamos"
   ]
  },
  {
   "cell_type": "code",
   "execution_count": null,
   "metadata": {},
   "outputs": [],
   "source": [
    "# Tratamiento de datos\n",
    "# -----------------------------------------------------------------------\n",
    "import pandas as pd\n",
    "import numpy as np\n",
    "\n",
    "# Configuración\n",
    "# -----------------------------------------------------------------------\n",
    "pd.set_option('display.max_columns', None)"
   ]
  },
  {
   "cell_type": "markdown",
   "metadata": {},
   "source": [
    "## Exploración Inicial"
   ]
  },
  {
   "cell_type": "code",
   "execution_count": 399,
   "metadata": {},
   "outputs": [],
   "source": [
    "# Cargamos los datos con el método read_csv de pandas y guardamos los objetos de tipo DataFrame en variables \n",
    "df_activity = pd.read_csv('../data/Customer Flight Activity.csv')\n",
    "df_history = pd.read_csv('../data/Customer Loyalty History.csv')"
   ]
  },
  {
   "cell_type": "code",
   "execution_count": 400,
   "metadata": {},
   "outputs": [
    {
     "name": "stdout",
     "output_type": "stream",
     "text": [
      "<class 'pandas.core.frame.DataFrame'>\n",
      "RangeIndex: 405624 entries, 0 to 405623\n",
      "Data columns (total 10 columns):\n",
      " #   Column                       Non-Null Count   Dtype  \n",
      "---  ------                       --------------   -----  \n",
      " 0   Loyalty Number               405624 non-null  int64  \n",
      " 1   Year                         405624 non-null  int64  \n",
      " 2   Month                        405624 non-null  int64  \n",
      " 3   Flights Booked               405624 non-null  int64  \n",
      " 4   Flights with Companions      405624 non-null  int64  \n",
      " 5   Total Flights                405624 non-null  int64  \n",
      " 6   Distance                     405624 non-null  int64  \n",
      " 7   Points Accumulated           405624 non-null  float64\n",
      " 8   Points Redeemed              405624 non-null  int64  \n",
      " 9   Dollar Cost Points Redeemed  405624 non-null  int64  \n",
      "dtypes: float64(1), int64(9)\n",
      "memory usage: 30.9 MB\n"
     ]
    }
   ],
   "source": [
    "# Usamos el método info de pandas para ver el total de filas y columnas en el dataframe, la cantidad de valores no nulos y el tipo de dato por columna.\n",
    "df_activity.info()"
   ]
  },
  {
   "cell_type": "code",
   "execution_count": 401,
   "metadata": {},
   "outputs": [
    {
     "data": {
      "text/plain": [
       "{'Loyalty Number': 'loyalty_number',\n",
       " 'Year': 'year',\n",
       " 'Month': 'month',\n",
       " 'Flights Booked': 'flights_booked',\n",
       " 'Flights with Companions': 'flights_with_companions',\n",
       " 'Total Flights': 'total_flights',\n",
       " 'Distance': 'distance',\n",
       " 'Points Accumulated': 'points_accumulated',\n",
       " 'Points Redeemed': 'points_redeemed',\n",
       " 'Dollar Cost Points Redeemed': 'dollar_cost_points_redeemed'}"
      ]
     },
     "execution_count": 401,
     "metadata": {},
     "output_type": "execute_result"
    }
   ],
   "source": [
    "# Creamos un diccionario para cambiar los nombres de las columnas\n",
    "col_names_activity = {col:col.lower().replace(' ', '_') for col in df_activity.columns}\n",
    "col_names_activity"
   ]
  },
  {
   "cell_type": "code",
   "execution_count": 402,
   "metadata": {},
   "outputs": [
    {
     "name": "stdout",
     "output_type": "stream",
     "text": [
      "<class 'pandas.core.frame.DataFrame'>\n",
      "RangeIndex: 16737 entries, 0 to 16736\n",
      "Data columns (total 16 columns):\n",
      " #   Column              Non-Null Count  Dtype  \n",
      "---  ------              --------------  -----  \n",
      " 0   Loyalty Number      16737 non-null  int64  \n",
      " 1   Country             16737 non-null  object \n",
      " 2   Province            16737 non-null  object \n",
      " 3   City                16737 non-null  object \n",
      " 4   Postal Code         16737 non-null  object \n",
      " 5   Gender              16737 non-null  object \n",
      " 6   Education           16737 non-null  object \n",
      " 7   Salary              12499 non-null  float64\n",
      " 8   Marital Status      16737 non-null  object \n",
      " 9   Loyalty Card        16737 non-null  object \n",
      " 10  CLV                 16737 non-null  float64\n",
      " 11  Enrollment Type     16737 non-null  object \n",
      " 12  Enrollment Year     16737 non-null  int64  \n",
      " 13  Enrollment Month    16737 non-null  int64  \n",
      " 14  Cancellation Year   2067 non-null   float64\n",
      " 15  Cancellation Month  2067 non-null   float64\n",
      "dtypes: float64(4), int64(3), object(9)\n",
      "memory usage: 2.0+ MB\n"
     ]
    }
   ],
   "source": [
    "df_history.info()"
   ]
  },
  {
   "cell_type": "code",
   "execution_count": 403,
   "metadata": {},
   "outputs": [
    {
     "data": {
      "text/plain": [
       "{'Loyalty Number': 'loyalty_number',\n",
       " 'Country': 'country',\n",
       " 'Province': 'province',\n",
       " 'City': 'city',\n",
       " 'Postal Code': 'postal_code',\n",
       " 'Gender': 'gender',\n",
       " 'Education': 'education',\n",
       " 'Salary': 'salary',\n",
       " 'Marital Status': 'marital_status',\n",
       " 'Loyalty Card': 'loyalty_card',\n",
       " 'CLV': 'clv',\n",
       " 'Enrollment Type': 'enrollment_type',\n",
       " 'Enrollment Year': 'enrollment_year',\n",
       " 'Enrollment Month': 'enrollment_month',\n",
       " 'Cancellation Year': 'cancellation_year',\n",
       " 'Cancellation Month': 'cancellation_month'}"
      ]
     },
     "execution_count": 403,
     "metadata": {},
     "output_type": "execute_result"
    }
   ],
   "source": [
    "col_names_history = {col:col.lower().replace(' ', '_') for col in df_history.columns}\n",
    "col_names_history"
   ]
  },
  {
   "cell_type": "code",
   "execution_count": 404,
   "metadata": {},
   "outputs": [],
   "source": [
    "# Con el método rename de Pandas renombramos las columnas usando los diccionarios creados previamente\n",
    "df_activity.rename(columns = col_names_activity, inplace = True)\n",
    "df_history.rename(columns = col_names_history, inplace = True) # El inplace es un parámetro que altera el DataFrame original"
   ]
  },
  {
   "cell_type": "code",
   "execution_count": 405,
   "metadata": {},
   "outputs": [
    {
     "data": {
      "text/html": [
       "<div>\n",
       "<style scoped>\n",
       "    .dataframe tbody tr th:only-of-type {\n",
       "        vertical-align: middle;\n",
       "    }\n",
       "\n",
       "    .dataframe tbody tr th {\n",
       "        vertical-align: top;\n",
       "    }\n",
       "\n",
       "    .dataframe thead th {\n",
       "        text-align: right;\n",
       "    }\n",
       "</style>\n",
       "<table border=\"1\" class=\"dataframe\">\n",
       "  <thead>\n",
       "    <tr style=\"text-align: right;\">\n",
       "      <th></th>\n",
       "      <th>loyalty_number</th>\n",
       "      <th>year</th>\n",
       "      <th>month</th>\n",
       "      <th>flights_booked</th>\n",
       "      <th>flights_with_companions</th>\n",
       "      <th>total_flights</th>\n",
       "      <th>distance</th>\n",
       "      <th>points_accumulated</th>\n",
       "      <th>points_redeemed</th>\n",
       "      <th>dollar_cost_points_redeemed</th>\n",
       "    </tr>\n",
       "  </thead>\n",
       "  <tbody>\n",
       "    <tr>\n",
       "      <th>0</th>\n",
       "      <td>100018</td>\n",
       "      <td>2017</td>\n",
       "      <td>1</td>\n",
       "      <td>3</td>\n",
       "      <td>0</td>\n",
       "      <td>3</td>\n",
       "      <td>1521</td>\n",
       "      <td>152.0</td>\n",
       "      <td>0</td>\n",
       "      <td>0</td>\n",
       "    </tr>\n",
       "    <tr>\n",
       "      <th>1</th>\n",
       "      <td>100102</td>\n",
       "      <td>2017</td>\n",
       "      <td>1</td>\n",
       "      <td>10</td>\n",
       "      <td>4</td>\n",
       "      <td>14</td>\n",
       "      <td>2030</td>\n",
       "      <td>203.0</td>\n",
       "      <td>0</td>\n",
       "      <td>0</td>\n",
       "    </tr>\n",
       "    <tr>\n",
       "      <th>2</th>\n",
       "      <td>100140</td>\n",
       "      <td>2017</td>\n",
       "      <td>1</td>\n",
       "      <td>6</td>\n",
       "      <td>0</td>\n",
       "      <td>6</td>\n",
       "      <td>1200</td>\n",
       "      <td>120.0</td>\n",
       "      <td>0</td>\n",
       "      <td>0</td>\n",
       "    </tr>\n",
       "    <tr>\n",
       "      <th>3</th>\n",
       "      <td>100214</td>\n",
       "      <td>2017</td>\n",
       "      <td>1</td>\n",
       "      <td>0</td>\n",
       "      <td>0</td>\n",
       "      <td>0</td>\n",
       "      <td>0</td>\n",
       "      <td>0.0</td>\n",
       "      <td>0</td>\n",
       "      <td>0</td>\n",
       "    </tr>\n",
       "    <tr>\n",
       "      <th>4</th>\n",
       "      <td>100272</td>\n",
       "      <td>2017</td>\n",
       "      <td>1</td>\n",
       "      <td>0</td>\n",
       "      <td>0</td>\n",
       "      <td>0</td>\n",
       "      <td>0</td>\n",
       "      <td>0.0</td>\n",
       "      <td>0</td>\n",
       "      <td>0</td>\n",
       "    </tr>\n",
       "  </tbody>\n",
       "</table>\n",
       "</div>"
      ],
      "text/plain": [
       "   loyalty_number  year  month  flights_booked  flights_with_companions  \\\n",
       "0          100018  2017      1               3                        0   \n",
       "1          100102  2017      1              10                        4   \n",
       "2          100140  2017      1               6                        0   \n",
       "3          100214  2017      1               0                        0   \n",
       "4          100272  2017      1               0                        0   \n",
       "\n",
       "   total_flights  distance  points_accumulated  points_redeemed  \\\n",
       "0              3      1521               152.0                0   \n",
       "1             14      2030               203.0                0   \n",
       "2              6      1200               120.0                0   \n",
       "3              0         0                 0.0                0   \n",
       "4              0         0                 0.0                0   \n",
       "\n",
       "   dollar_cost_points_redeemed  \n",
       "0                            0  \n",
       "1                            0  \n",
       "2                            0  \n",
       "3                            0  \n",
       "4                            0  "
      ]
     },
     "execution_count": 405,
     "metadata": {},
     "output_type": "execute_result"
    }
   ],
   "source": [
    "# El método head nos permite ver las primeras 5 filas del DataFrame\n",
    "df_activity.head()"
   ]
  },
  {
   "cell_type": "code",
   "execution_count": 406,
   "metadata": {},
   "outputs": [
    {
     "data": {
      "text/html": [
       "<div>\n",
       "<style scoped>\n",
       "    .dataframe tbody tr th:only-of-type {\n",
       "        vertical-align: middle;\n",
       "    }\n",
       "\n",
       "    .dataframe tbody tr th {\n",
       "        vertical-align: top;\n",
       "    }\n",
       "\n",
       "    .dataframe thead th {\n",
       "        text-align: right;\n",
       "    }\n",
       "</style>\n",
       "<table border=\"1\" class=\"dataframe\">\n",
       "  <thead>\n",
       "    <tr style=\"text-align: right;\">\n",
       "      <th></th>\n",
       "      <th>loyalty_number</th>\n",
       "      <th>country</th>\n",
       "      <th>province</th>\n",
       "      <th>city</th>\n",
       "      <th>postal_code</th>\n",
       "      <th>gender</th>\n",
       "      <th>education</th>\n",
       "      <th>salary</th>\n",
       "      <th>marital_status</th>\n",
       "      <th>loyalty_card</th>\n",
       "      <th>clv</th>\n",
       "      <th>enrollment_type</th>\n",
       "      <th>enrollment_year</th>\n",
       "      <th>enrollment_month</th>\n",
       "      <th>cancellation_year</th>\n",
       "      <th>cancellation_month</th>\n",
       "    </tr>\n",
       "  </thead>\n",
       "  <tbody>\n",
       "    <tr>\n",
       "      <th>0</th>\n",
       "      <td>480934</td>\n",
       "      <td>Canada</td>\n",
       "      <td>Ontario</td>\n",
       "      <td>Toronto</td>\n",
       "      <td>M2Z 4K1</td>\n",
       "      <td>Female</td>\n",
       "      <td>Bachelor</td>\n",
       "      <td>83236.0</td>\n",
       "      <td>Married</td>\n",
       "      <td>Star</td>\n",
       "      <td>3839.14</td>\n",
       "      <td>Standard</td>\n",
       "      <td>2016</td>\n",
       "      <td>2</td>\n",
       "      <td>NaN</td>\n",
       "      <td>NaN</td>\n",
       "    </tr>\n",
       "    <tr>\n",
       "      <th>1</th>\n",
       "      <td>549612</td>\n",
       "      <td>Canada</td>\n",
       "      <td>Alberta</td>\n",
       "      <td>Edmonton</td>\n",
       "      <td>T3G 6Y6</td>\n",
       "      <td>Male</td>\n",
       "      <td>College</td>\n",
       "      <td>NaN</td>\n",
       "      <td>Divorced</td>\n",
       "      <td>Star</td>\n",
       "      <td>3839.61</td>\n",
       "      <td>Standard</td>\n",
       "      <td>2016</td>\n",
       "      <td>3</td>\n",
       "      <td>NaN</td>\n",
       "      <td>NaN</td>\n",
       "    </tr>\n",
       "    <tr>\n",
       "      <th>2</th>\n",
       "      <td>429460</td>\n",
       "      <td>Canada</td>\n",
       "      <td>British Columbia</td>\n",
       "      <td>Vancouver</td>\n",
       "      <td>V6E 3D9</td>\n",
       "      <td>Male</td>\n",
       "      <td>College</td>\n",
       "      <td>NaN</td>\n",
       "      <td>Single</td>\n",
       "      <td>Star</td>\n",
       "      <td>3839.75</td>\n",
       "      <td>Standard</td>\n",
       "      <td>2014</td>\n",
       "      <td>7</td>\n",
       "      <td>2018.0</td>\n",
       "      <td>1.0</td>\n",
       "    </tr>\n",
       "    <tr>\n",
       "      <th>3</th>\n",
       "      <td>608370</td>\n",
       "      <td>Canada</td>\n",
       "      <td>Ontario</td>\n",
       "      <td>Toronto</td>\n",
       "      <td>P1W 1K4</td>\n",
       "      <td>Male</td>\n",
       "      <td>College</td>\n",
       "      <td>NaN</td>\n",
       "      <td>Single</td>\n",
       "      <td>Star</td>\n",
       "      <td>3839.75</td>\n",
       "      <td>Standard</td>\n",
       "      <td>2013</td>\n",
       "      <td>2</td>\n",
       "      <td>NaN</td>\n",
       "      <td>NaN</td>\n",
       "    </tr>\n",
       "    <tr>\n",
       "      <th>4</th>\n",
       "      <td>530508</td>\n",
       "      <td>Canada</td>\n",
       "      <td>Quebec</td>\n",
       "      <td>Hull</td>\n",
       "      <td>J8Y 3Z5</td>\n",
       "      <td>Male</td>\n",
       "      <td>Bachelor</td>\n",
       "      <td>103495.0</td>\n",
       "      <td>Married</td>\n",
       "      <td>Star</td>\n",
       "      <td>3842.79</td>\n",
       "      <td>Standard</td>\n",
       "      <td>2014</td>\n",
       "      <td>10</td>\n",
       "      <td>NaN</td>\n",
       "      <td>NaN</td>\n",
       "    </tr>\n",
       "  </tbody>\n",
       "</table>\n",
       "</div>"
      ],
      "text/plain": [
       "   loyalty_number country          province       city postal_code  gender  \\\n",
       "0          480934  Canada           Ontario    Toronto     M2Z 4K1  Female   \n",
       "1          549612  Canada           Alberta   Edmonton     T3G 6Y6    Male   \n",
       "2          429460  Canada  British Columbia  Vancouver     V6E 3D9    Male   \n",
       "3          608370  Canada           Ontario    Toronto     P1W 1K4    Male   \n",
       "4          530508  Canada            Quebec       Hull     J8Y 3Z5    Male   \n",
       "\n",
       "  education    salary marital_status loyalty_card      clv enrollment_type  \\\n",
       "0  Bachelor   83236.0        Married         Star  3839.14        Standard   \n",
       "1   College       NaN       Divorced         Star  3839.61        Standard   \n",
       "2   College       NaN         Single         Star  3839.75        Standard   \n",
       "3   College       NaN         Single         Star  3839.75        Standard   \n",
       "4  Bachelor  103495.0        Married         Star  3842.79        Standard   \n",
       "\n",
       "   enrollment_year  enrollment_month  cancellation_year  cancellation_month  \n",
       "0             2016                 2                NaN                 NaN  \n",
       "1             2016                 3                NaN                 NaN  \n",
       "2             2014                 7             2018.0                 1.0  \n",
       "3             2013                 2                NaN                 NaN  \n",
       "4             2014                10                NaN                 NaN  "
      ]
     },
     "execution_count": 406,
     "metadata": {},
     "output_type": "execute_result"
    }
   ],
   "source": [
    "df_history.head()"
   ]
  },
  {
   "cell_type": "code",
   "execution_count": 407,
   "metadata": {},
   "outputs": [
    {
     "data": {
      "text/html": [
       "<div>\n",
       "<style scoped>\n",
       "    .dataframe tbody tr th:only-of-type {\n",
       "        vertical-align: middle;\n",
       "    }\n",
       "\n",
       "    .dataframe tbody tr th {\n",
       "        vertical-align: top;\n",
       "    }\n",
       "\n",
       "    .dataframe thead th {\n",
       "        text-align: right;\n",
       "    }\n",
       "</style>\n",
       "<table border=\"1\" class=\"dataframe\">\n",
       "  <thead>\n",
       "    <tr style=\"text-align: right;\">\n",
       "      <th></th>\n",
       "      <th>count</th>\n",
       "      <th>mean</th>\n",
       "      <th>std</th>\n",
       "      <th>min</th>\n",
       "      <th>25%</th>\n",
       "      <th>50%</th>\n",
       "      <th>75%</th>\n",
       "      <th>max</th>\n",
       "    </tr>\n",
       "  </thead>\n",
       "  <tbody>\n",
       "    <tr>\n",
       "      <th>loyalty_number</th>\n",
       "      <td>405624.0</td>\n",
       "      <td>550037.873084</td>\n",
       "      <td>258935.286969</td>\n",
       "      <td>100018.0</td>\n",
       "      <td>326961.00</td>\n",
       "      <td>550834.0</td>\n",
       "      <td>772194.00</td>\n",
       "      <td>999986.0</td>\n",
       "    </tr>\n",
       "    <tr>\n",
       "      <th>year</th>\n",
       "      <td>405624.0</td>\n",
       "      <td>2017.500000</td>\n",
       "      <td>0.500001</td>\n",
       "      <td>2017.0</td>\n",
       "      <td>2017.00</td>\n",
       "      <td>2017.5</td>\n",
       "      <td>2018.00</td>\n",
       "      <td>2018.0</td>\n",
       "    </tr>\n",
       "    <tr>\n",
       "      <th>month</th>\n",
       "      <td>405624.0</td>\n",
       "      <td>6.500000</td>\n",
       "      <td>3.452057</td>\n",
       "      <td>1.0</td>\n",
       "      <td>3.75</td>\n",
       "      <td>6.5</td>\n",
       "      <td>9.25</td>\n",
       "      <td>12.0</td>\n",
       "    </tr>\n",
       "    <tr>\n",
       "      <th>flights_booked</th>\n",
       "      <td>405624.0</td>\n",
       "      <td>4.115052</td>\n",
       "      <td>5.225518</td>\n",
       "      <td>0.0</td>\n",
       "      <td>0.00</td>\n",
       "      <td>1.0</td>\n",
       "      <td>8.00</td>\n",
       "      <td>21.0</td>\n",
       "    </tr>\n",
       "    <tr>\n",
       "      <th>flights_with_companions</th>\n",
       "      <td>405624.0</td>\n",
       "      <td>1.031805</td>\n",
       "      <td>2.076869</td>\n",
       "      <td>0.0</td>\n",
       "      <td>0.00</td>\n",
       "      <td>0.0</td>\n",
       "      <td>1.00</td>\n",
       "      <td>11.0</td>\n",
       "    </tr>\n",
       "    <tr>\n",
       "      <th>total_flights</th>\n",
       "      <td>405624.0</td>\n",
       "      <td>5.146858</td>\n",
       "      <td>6.521227</td>\n",
       "      <td>0.0</td>\n",
       "      <td>0.00</td>\n",
       "      <td>1.0</td>\n",
       "      <td>10.00</td>\n",
       "      <td>32.0</td>\n",
       "    </tr>\n",
       "    <tr>\n",
       "      <th>distance</th>\n",
       "      <td>405624.0</td>\n",
       "      <td>1208.880059</td>\n",
       "      <td>1433.155320</td>\n",
       "      <td>0.0</td>\n",
       "      <td>0.00</td>\n",
       "      <td>488.0</td>\n",
       "      <td>2336.00</td>\n",
       "      <td>6293.0</td>\n",
       "    </tr>\n",
       "    <tr>\n",
       "      <th>points_accumulated</th>\n",
       "      <td>405624.0</td>\n",
       "      <td>123.692721</td>\n",
       "      <td>146.599831</td>\n",
       "      <td>0.0</td>\n",
       "      <td>0.00</td>\n",
       "      <td>50.0</td>\n",
       "      <td>239.00</td>\n",
       "      <td>676.5</td>\n",
       "    </tr>\n",
       "    <tr>\n",
       "      <th>points_redeemed</th>\n",
       "      <td>405624.0</td>\n",
       "      <td>30.696872</td>\n",
       "      <td>125.486049</td>\n",
       "      <td>0.0</td>\n",
       "      <td>0.00</td>\n",
       "      <td>0.0</td>\n",
       "      <td>0.00</td>\n",
       "      <td>876.0</td>\n",
       "    </tr>\n",
       "    <tr>\n",
       "      <th>dollar_cost_points_redeemed</th>\n",
       "      <td>405624.0</td>\n",
       "      <td>2.484503</td>\n",
       "      <td>10.150038</td>\n",
       "      <td>0.0</td>\n",
       "      <td>0.00</td>\n",
       "      <td>0.0</td>\n",
       "      <td>0.00</td>\n",
       "      <td>71.0</td>\n",
       "    </tr>\n",
       "  </tbody>\n",
       "</table>\n",
       "</div>"
      ],
      "text/plain": [
       "                                count           mean            std       min  \\\n",
       "loyalty_number               405624.0  550037.873084  258935.286969  100018.0   \n",
       "year                         405624.0    2017.500000       0.500001    2017.0   \n",
       "month                        405624.0       6.500000       3.452057       1.0   \n",
       "flights_booked               405624.0       4.115052       5.225518       0.0   \n",
       "flights_with_companions      405624.0       1.031805       2.076869       0.0   \n",
       "total_flights                405624.0       5.146858       6.521227       0.0   \n",
       "distance                     405624.0    1208.880059    1433.155320       0.0   \n",
       "points_accumulated           405624.0     123.692721     146.599831       0.0   \n",
       "points_redeemed              405624.0      30.696872     125.486049       0.0   \n",
       "dollar_cost_points_redeemed  405624.0       2.484503      10.150038       0.0   \n",
       "\n",
       "                                   25%       50%        75%       max  \n",
       "loyalty_number               326961.00  550834.0  772194.00  999986.0  \n",
       "year                           2017.00    2017.5    2018.00    2018.0  \n",
       "month                             3.75       6.5       9.25      12.0  \n",
       "flights_booked                    0.00       1.0       8.00      21.0  \n",
       "flights_with_companions           0.00       0.0       1.00      11.0  \n",
       "total_flights                     0.00       1.0      10.00      32.0  \n",
       "distance                          0.00     488.0    2336.00    6293.0  \n",
       "points_accumulated                0.00      50.0     239.00     676.5  \n",
       "points_redeemed                   0.00       0.0       0.00     876.0  \n",
       "dollar_cost_points_redeemed       0.00       0.0       0.00      71.0  "
      ]
     },
     "execution_count": 407,
     "metadata": {},
     "output_type": "execute_result"
    }
   ],
   "source": [
    "# El método describe nos permite ver las estadísticas descriptivas de las variables numéricas del DataFrame\n",
    "df_activity.describe().T # La 'T' de transpose cambia las filas y columnas "
   ]
  },
  {
   "cell_type": "markdown",
   "metadata": {},
   "source": [
    "### Conclusiones que podemos extraer del describe para el conjunto de datos activity:\n",
    "\n",
    "* El loyalty_number va de 100018.0 a 999986.0 y hay un total de 405624.0 loyalty_number.\n",
    "* Los años van de 2017 a 2108 y los meses de 1 a 12.\n",
    "* La cantidad mas alta de flights_booked es de 21.0 y un 50% de los datos está por debajo de 1 flights_booked.\n",
    "* la cantidad mas alta de flights_with_companions es de 11.0 y un 75% de los datos está por debajo de 1 flights_with_companions.\n",
    "* La cantidad mas alta de total_flights es de 32.0 y un 50% de los datos está por debajo de 1 total_flights.\n",
    "* La distancia mas alta es de 6293.0 y un 50% de los datos tiene la distancia inferior a 488.\n",
    "* La cantidad mas alta de points_accumulated es de 676.5 y un 50% de los datos es inferior a 50.0 points_accumulated.\n",
    "* La cantidad mas alta de points_redeemed es de 876.0 y un 75% de los datos es inferior a 0 points_redeemed.\n",
    "* La cantidad mas alta de dollar_cost_points_redeemed es de 71.0 y un 75% de los datos es inferior a 0 dollar_cost_points_redeemed.\n",
    "\n",
    "### Los tipos de datos son coherentes y no hay valores nulos. "
   ]
  },
  {
   "cell_type": "code",
   "execution_count": 408,
   "metadata": {},
   "outputs": [
    {
     "data": {
      "text/html": [
       "<div>\n",
       "<style scoped>\n",
       "    .dataframe tbody tr th:only-of-type {\n",
       "        vertical-align: middle;\n",
       "    }\n",
       "\n",
       "    .dataframe tbody tr th {\n",
       "        vertical-align: top;\n",
       "    }\n",
       "\n",
       "    .dataframe thead th {\n",
       "        text-align: right;\n",
       "    }\n",
       "</style>\n",
       "<table border=\"1\" class=\"dataframe\">\n",
       "  <thead>\n",
       "    <tr style=\"text-align: right;\">\n",
       "      <th></th>\n",
       "      <th>count</th>\n",
       "      <th>mean</th>\n",
       "      <th>std</th>\n",
       "      <th>min</th>\n",
       "      <th>25%</th>\n",
       "      <th>50%</th>\n",
       "      <th>75%</th>\n",
       "      <th>max</th>\n",
       "    </tr>\n",
       "  </thead>\n",
       "  <tbody>\n",
       "    <tr>\n",
       "      <th>loyalty_number</th>\n",
       "      <td>16737.0</td>\n",
       "      <td>549735.880445</td>\n",
       "      <td>258912.132453</td>\n",
       "      <td>100018.00</td>\n",
       "      <td>326603.00</td>\n",
       "      <td>550434.00</td>\n",
       "      <td>772019.00</td>\n",
       "      <td>999986.00</td>\n",
       "    </tr>\n",
       "    <tr>\n",
       "      <th>salary</th>\n",
       "      <td>12499.0</td>\n",
       "      <td>79245.609409</td>\n",
       "      <td>35008.297285</td>\n",
       "      <td>-58486.00</td>\n",
       "      <td>59246.50</td>\n",
       "      <td>73455.00</td>\n",
       "      <td>88517.50</td>\n",
       "      <td>407228.00</td>\n",
       "    </tr>\n",
       "    <tr>\n",
       "      <th>clv</th>\n",
       "      <td>16737.0</td>\n",
       "      <td>7988.896536</td>\n",
       "      <td>6860.982280</td>\n",
       "      <td>1898.01</td>\n",
       "      <td>3980.84</td>\n",
       "      <td>5780.18</td>\n",
       "      <td>8940.58</td>\n",
       "      <td>83325.38</td>\n",
       "    </tr>\n",
       "    <tr>\n",
       "      <th>enrollment_year</th>\n",
       "      <td>16737.0</td>\n",
       "      <td>2015.253211</td>\n",
       "      <td>1.979111</td>\n",
       "      <td>2012.00</td>\n",
       "      <td>2014.00</td>\n",
       "      <td>2015.00</td>\n",
       "      <td>2017.00</td>\n",
       "      <td>2018.00</td>\n",
       "    </tr>\n",
       "    <tr>\n",
       "      <th>enrollment_month</th>\n",
       "      <td>16737.0</td>\n",
       "      <td>6.669116</td>\n",
       "      <td>3.398958</td>\n",
       "      <td>1.00</td>\n",
       "      <td>4.00</td>\n",
       "      <td>7.00</td>\n",
       "      <td>10.00</td>\n",
       "      <td>12.00</td>\n",
       "    </tr>\n",
       "    <tr>\n",
       "      <th>cancellation_year</th>\n",
       "      <td>2067.0</td>\n",
       "      <td>2016.503145</td>\n",
       "      <td>1.380743</td>\n",
       "      <td>2013.00</td>\n",
       "      <td>2016.00</td>\n",
       "      <td>2017.00</td>\n",
       "      <td>2018.00</td>\n",
       "      <td>2018.00</td>\n",
       "    </tr>\n",
       "    <tr>\n",
       "      <th>cancellation_month</th>\n",
       "      <td>2067.0</td>\n",
       "      <td>6.962748</td>\n",
       "      <td>3.455297</td>\n",
       "      <td>1.00</td>\n",
       "      <td>4.00</td>\n",
       "      <td>7.00</td>\n",
       "      <td>10.00</td>\n",
       "      <td>12.00</td>\n",
       "    </tr>\n",
       "  </tbody>\n",
       "</table>\n",
       "</div>"
      ],
      "text/plain": [
       "                      count           mean            std        min  \\\n",
       "loyalty_number      16737.0  549735.880445  258912.132453  100018.00   \n",
       "salary              12499.0   79245.609409   35008.297285  -58486.00   \n",
       "clv                 16737.0    7988.896536    6860.982280    1898.01   \n",
       "enrollment_year     16737.0    2015.253211       1.979111    2012.00   \n",
       "enrollment_month    16737.0       6.669116       3.398958       1.00   \n",
       "cancellation_year    2067.0    2016.503145       1.380743    2013.00   \n",
       "cancellation_month   2067.0       6.962748       3.455297       1.00   \n",
       "\n",
       "                          25%        50%        75%        max  \n",
       "loyalty_number      326603.00  550434.00  772019.00  999986.00  \n",
       "salary               59246.50   73455.00   88517.50  407228.00  \n",
       "clv                   3980.84    5780.18    8940.58   83325.38  \n",
       "enrollment_year       2014.00    2015.00    2017.00    2018.00  \n",
       "enrollment_month         4.00       7.00      10.00      12.00  \n",
       "cancellation_year     2016.00    2017.00    2018.00    2018.00  \n",
       "cancellation_month       4.00       7.00      10.00      12.00  "
      ]
     },
     "execution_count": 408,
     "metadata": {},
     "output_type": "execute_result"
    }
   ],
   "source": [
    "df_history.describe().T"
   ]
  },
  {
   "cell_type": "markdown",
   "metadata": {},
   "source": [
    "### Conclusiones que podemos extraer del describe para el conjunto de datos history:\n",
    "\n",
    "* El loyalty_number va de 100018.0 a 999986.0 y hay un total de 16737.0 loyalty_number.\n",
    "* El salary tiene un conteo de 12499 valores, indicando que hay valores nulos, que también se pueden observar en el info(). El valor mínimo es negativo y el máximo es 407228.\n",
    "* El clv va de 1898.01 a 83325.38 y un 50% de los datos son inferiores a 5780.18.\n",
    "* El enrollment_year va de 2012 a 2018 y un 50% de los datos es inferior a 2015.\n",
    "* El enrollment_month va de 1 a 12 y un 50% de los datos es inferior a 7.\n",
    "* El cancellation_year va de 2013 a 2018 y un 50% de los datos es inferior a 2017. El conteo indica que hay valores nulos, lo que puede significar que estos clientes con valores nulos no han cancelado el plan de fidelización.\n",
    "* El cancellation_month va de 1 a 12 y un 50% de los datos es inferior a 7. El conteo es igual que el cancellation year, lo que probablemente indica que los valores que hay representan los clientes que han cancelado el plan de fidelización."
   ]
  },
  {
   "cell_type": "markdown",
   "metadata": {},
   "source": [
    "Intentaremos confirmar suposiciones iniciales hechas a partir del describe"
   ]
  },
  {
   "cell_type": "code",
   "execution_count": 409,
   "metadata": {},
   "outputs": [
    {
     "data": {
      "text/plain": [
       "20"
      ]
     },
     "execution_count": 409,
     "metadata": {},
     "output_type": "execute_result"
    }
   ],
   "source": [
    "df_history[df_history.salary < 0].shape[0] # Usando el filtrado y el shape podemos ver que hay 20 valores negativos en la columna salary."
   ]
  },
  {
   "cell_type": "markdown",
   "metadata": {},
   "source": [
    "Tras verificar que los rangos de los salaries son compatibles con los demás rangos del conjunto de datos, interpretamos que esto ha sido un error a la hora de insertar estos datos. \n",
    "Al tratarse de 20 valores en mas de 12 mil, los convertiremos a valores absolutos."
   ]
  },
  {
   "cell_type": "code",
   "execution_count": 410,
   "metadata": {},
   "outputs": [
    {
     "data": {
      "text/plain": [
       "1082    -49830.0\n",
       "1894    -12497.0\n",
       "2471    -46683.0\n",
       "3575    -45962.0\n",
       "3932    -19325.0\n",
       "4712    -43234.0\n",
       "6560    -10605.0\n",
       "6570    -17534.0\n",
       "7373    -58486.0\n",
       "8576    -31911.0\n",
       "8767    -49001.0\n",
       "10232   -34079.0\n",
       "11635    -9081.0\n",
       "12596   -46470.0\n",
       "13564   -26322.0\n",
       "14327   -47310.0\n",
       "14355   -39503.0\n",
       "15416   -19332.0\n",
       "16431   -46303.0\n",
       "16735   -57297.0\n",
       "Name: salary, dtype: float64"
      ]
     },
     "execution_count": 410,
     "metadata": {},
     "output_type": "execute_result"
    }
   ],
   "source": [
    "df_history[df_history.salary < 0]['salary'] "
   ]
  },
  {
   "cell_type": "code",
   "execution_count": 411,
   "metadata": {},
   "outputs": [
    {
     "data": {
      "text/plain": [
       "4238"
      ]
     },
     "execution_count": 411,
     "metadata": {},
     "output_type": "execute_result"
    }
   ],
   "source": [
    "df_history.salary.isnull().sum() # Usando el método isnull junto al sum podemos ver cuantos valores nulos hay en la columna salary. "
   ]
  },
  {
   "cell_type": "markdown",
   "metadata": {},
   "source": [
    "Posteriormente analizaremos cuál es el impacto de estos nulos para decidir si hay que realizar imputaciones. "
   ]
  },
  {
   "cell_type": "code",
   "execution_count": 412,
   "metadata": {},
   "outputs": [
    {
     "name": "stdout",
     "output_type": "stream",
     "text": [
      "El porcentaje de valores nulos de la variable salary es de: 25.32%\n"
     ]
    }
   ],
   "source": [
    "print(f\"El porcentaje de valores nulos de la variable salary es de: {round((df_history.salary.isnull().sum()/df_history.shape[0])*100, 2)}%\")"
   ]
  },
  {
   "cell_type": "code",
   "execution_count": 413,
   "metadata": {},
   "outputs": [],
   "source": [
    "df_history.salary = abs(df_history.salary) # Convertimos los valores a absolutos"
   ]
  },
  {
   "cell_type": "code",
   "execution_count": 414,
   "metadata": {},
   "outputs": [
    {
     "data": {
      "text/plain": [
       "Series([], Name: salary, dtype: float64)"
      ]
     },
     "execution_count": 414,
     "metadata": {},
     "output_type": "execute_result"
    }
   ],
   "source": [
    "df_history[df_history.salary < 0]['salary'] # Confirmamos que se ha realizado el cambio correctamente"
   ]
  },
  {
   "cell_type": "code",
   "execution_count": 415,
   "metadata": {},
   "outputs": [
    {
     "data": {
      "text/plain": [
       "(2067, 2)"
      ]
     },
     "execution_count": 415,
     "metadata": {},
     "output_type": "execute_result"
    }
   ],
   "source": [
    "# Verificamos si el cancellation_year y el cancellation_month corresponden a las mismas filas\n",
    "df_hist_filtered = df_history[(df_history.cancellation_year.notnull()) & (df_history.cancellation_month.notnull())][['cancellation_year', 'cancellation_month']]\n",
    "df_hist_filtered.shape"
   ]
  },
  {
   "cell_type": "markdown",
   "metadata": {},
   "source": [
    "Como la cantidad de filas que teníamos para estas 2 variables era igual y como este conteo se mantiene al unir las 2 variables sin valores nulos, concluimos que las filas con valores se corresponden.\n",
    "* Concluimos que estos valores faltantes son clientes que no han cancelado el plan, mientras que los que tienen mes y año han cancelado el plan en esa fecha. "
   ]
  },
  {
   "cell_type": "markdown",
   "metadata": {},
   "source": [
    "El Dataframe activity no tiene variables de tipo object, pero el history sí las tiene."
   ]
  },
  {
   "cell_type": "code",
   "execution_count": 416,
   "metadata": {},
   "outputs": [
    {
     "data": {
      "text/html": [
       "<div>\n",
       "<style scoped>\n",
       "    .dataframe tbody tr th:only-of-type {\n",
       "        vertical-align: middle;\n",
       "    }\n",
       "\n",
       "    .dataframe tbody tr th {\n",
       "        vertical-align: top;\n",
       "    }\n",
       "\n",
       "    .dataframe thead th {\n",
       "        text-align: right;\n",
       "    }\n",
       "</style>\n",
       "<table border=\"1\" class=\"dataframe\">\n",
       "  <thead>\n",
       "    <tr style=\"text-align: right;\">\n",
       "      <th></th>\n",
       "      <th>count</th>\n",
       "      <th>unique</th>\n",
       "      <th>top</th>\n",
       "      <th>freq</th>\n",
       "    </tr>\n",
       "  </thead>\n",
       "  <tbody>\n",
       "    <tr>\n",
       "      <th>country</th>\n",
       "      <td>16737</td>\n",
       "      <td>1</td>\n",
       "      <td>Canada</td>\n",
       "      <td>16737</td>\n",
       "    </tr>\n",
       "    <tr>\n",
       "      <th>province</th>\n",
       "      <td>16737</td>\n",
       "      <td>11</td>\n",
       "      <td>Ontario</td>\n",
       "      <td>5404</td>\n",
       "    </tr>\n",
       "    <tr>\n",
       "      <th>city</th>\n",
       "      <td>16737</td>\n",
       "      <td>29</td>\n",
       "      <td>Toronto</td>\n",
       "      <td>3351</td>\n",
       "    </tr>\n",
       "    <tr>\n",
       "      <th>postal_code</th>\n",
       "      <td>16737</td>\n",
       "      <td>55</td>\n",
       "      <td>V6E 3D9</td>\n",
       "      <td>911</td>\n",
       "    </tr>\n",
       "    <tr>\n",
       "      <th>gender</th>\n",
       "      <td>16737</td>\n",
       "      <td>2</td>\n",
       "      <td>Female</td>\n",
       "      <td>8410</td>\n",
       "    </tr>\n",
       "    <tr>\n",
       "      <th>education</th>\n",
       "      <td>16737</td>\n",
       "      <td>5</td>\n",
       "      <td>Bachelor</td>\n",
       "      <td>10475</td>\n",
       "    </tr>\n",
       "    <tr>\n",
       "      <th>marital_status</th>\n",
       "      <td>16737</td>\n",
       "      <td>3</td>\n",
       "      <td>Married</td>\n",
       "      <td>9735</td>\n",
       "    </tr>\n",
       "    <tr>\n",
       "      <th>loyalty_card</th>\n",
       "      <td>16737</td>\n",
       "      <td>3</td>\n",
       "      <td>Star</td>\n",
       "      <td>7637</td>\n",
       "    </tr>\n",
       "    <tr>\n",
       "      <th>enrollment_type</th>\n",
       "      <td>16737</td>\n",
       "      <td>2</td>\n",
       "      <td>Standard</td>\n",
       "      <td>15766</td>\n",
       "    </tr>\n",
       "  </tbody>\n",
       "</table>\n",
       "</div>"
      ],
      "text/plain": [
       "                 count unique       top   freq\n",
       "country          16737      1    Canada  16737\n",
       "province         16737     11   Ontario   5404\n",
       "city             16737     29   Toronto   3351\n",
       "postal_code      16737     55   V6E 3D9    911\n",
       "gender           16737      2    Female   8410\n",
       "education        16737      5  Bachelor  10475\n",
       "marital_status   16737      3   Married   9735\n",
       "loyalty_card     16737      3      Star   7637\n",
       "enrollment_type  16737      2  Standard  15766"
      ]
     },
     "execution_count": 416,
     "metadata": {},
     "output_type": "execute_result"
    }
   ],
   "source": [
    "# Usamos el describe con el include = 'O' para ver las estadísticas descriptivas de las variables de tipo object. \n",
    "df_history.describe(include='O').T"
   ]
  },
  {
   "cell_type": "markdown",
   "metadata": {},
   "source": [
    "### Conclusiones del describe para datos de tipo Object:\n",
    "\n",
    "* No hay valores nulos\n",
    "* Solo hay un País en la columna country, que es Canada. Esta columna no aporta infomación útil, por lo cuál será eliminada."
   ]
  },
  {
   "cell_type": "code",
   "execution_count": 417,
   "metadata": {},
   "outputs": [],
   "source": [
    "# Eliminamos la columna country del DataFrama ya que todos los valores son iguales usando el método drop de pandas con el parámetro inplace = True para aplicar el cambio en el DataFrame original.\n",
    "df_history.drop(columns=['country'], inplace=True)"
   ]
  },
  {
   "cell_type": "code",
   "execution_count": 418,
   "metadata": {},
   "outputs": [
    {
     "data": {
      "text/plain": [
       "Index(['loyalty_number', 'province', 'city', 'postal_code', 'gender',\n",
       "       'education', 'salary', 'marital_status', 'loyalty_card', 'clv',\n",
       "       'enrollment_type', 'enrollment_year', 'enrollment_month',\n",
       "       'cancellation_year', 'cancellation_month'],\n",
       "      dtype='object')"
      ]
     },
     "execution_count": 418,
     "metadata": {},
     "output_type": "execute_result"
    }
   ],
   "source": [
    "# Verificamos que la columna ha sido eliminada correctamente\n",
    "df_history.columns"
   ]
  },
  {
   "cell_type": "code",
   "execution_count": 419,
   "metadata": {},
   "outputs": [
    {
     "data": {
      "text/plain": [
       "gender\n",
       "Female    8410\n",
       "Male      8327\n",
       "Name: count, dtype: int64"
      ]
     },
     "metadata": {},
     "output_type": "display_data"
    },
    {
     "data": {
      "text/plain": [
       "education\n",
       "Bachelor                10475\n",
       "College                  4238\n",
       "High School or Below      782\n",
       "Doctor                    734\n",
       "Master                    508\n",
       "Name: count, dtype: int64"
      ]
     },
     "metadata": {},
     "output_type": "display_data"
    },
    {
     "data": {
      "text/plain": [
       "marital_status\n",
       "Married     9735\n",
       "Single      4484\n",
       "Divorced    2518\n",
       "Name: count, dtype: int64"
      ]
     },
     "metadata": {},
     "output_type": "display_data"
    },
    {
     "data": {
      "text/plain": [
       "loyalty_card\n",
       "Star      7637\n",
       "Nova      5671\n",
       "Aurora    3429\n",
       "Name: count, dtype: int64"
      ]
     },
     "metadata": {},
     "output_type": "display_data"
    },
    {
     "data": {
      "text/plain": [
       "enrollment_type\n",
       "Standard          15766\n",
       "2018 Promotion      971\n",
       "Name: count, dtype: int64"
      ]
     },
     "metadata": {},
     "output_type": "display_data"
    }
   ],
   "source": [
    "# Verificamos si hay valores atípicos en las columnas de tipo object que tienen pocos valores únicos\n",
    "columns = ['gender', 'education', 'marital_status', 'loyalty_card', 'enrollment_type']\n",
    "for col in columns:\n",
    "    display(df_history[col].value_counts())"
   ]
  },
  {
   "cell_type": "markdown",
   "metadata": {},
   "source": [
    "De momento todos los valores son coherentes. Verificamos las demás columnas"
   ]
  },
  {
   "cell_type": "code",
   "execution_count": 420,
   "metadata": {},
   "outputs": [
    {
     "data": {
      "text/plain": [
       "province\n",
       "Ontario                 5404\n",
       "British Columbia        4409\n",
       "Quebec                  3300\n",
       "Alberta                  969\n",
       "Manitoba                 658\n",
       "New Brunswick            636\n",
       "Nova Scotia              518\n",
       "Saskatchewan             409\n",
       "Newfoundland             258\n",
       "Yukon                    110\n",
       "Prince Edward Island      66\n",
       "Name: count, dtype: int64"
      ]
     },
     "execution_count": 420,
     "metadata": {},
     "output_type": "execute_result"
    }
   ],
   "source": [
    "df_history.province.value_counts()\n"
   ]
  },
  {
   "cell_type": "code",
   "execution_count": 421,
   "metadata": {},
   "outputs": [
    {
     "data": {
      "text/plain": [
       "city\n",
       "Toronto           3351\n",
       "Vancouver         2582\n",
       "Montreal          2059\n",
       "Winnipeg           658\n",
       "Whistler           582\n",
       "Halifax            518\n",
       "Ottawa             509\n",
       "Trenton            486\n",
       "Edmonton           486\n",
       "Quebec City        485\n",
       "Dawson Creek       444\n",
       "Fredericton        425\n",
       "Regina             409\n",
       "Kingston           401\n",
       "Tremblant          398\n",
       "Victoria           389\n",
       "Hull               358\n",
       "West Vancouver     324\n",
       "St. John's         258\n",
       "Thunder Bay        256\n",
       "Sudbury            227\n",
       "Moncton            211\n",
       "Calgary            191\n",
       "Banff              179\n",
       "London             174\n",
       "Peace River        113\n",
       "Whitehorse         110\n",
       "Kelowna             88\n",
       "Charlottetown       66\n",
       "Name: count, dtype: int64"
      ]
     },
     "execution_count": 421,
     "metadata": {},
     "output_type": "execute_result"
    }
   ],
   "source": [
    "df_history.city.value_counts()\n"
   ]
  },
  {
   "cell_type": "code",
   "execution_count": 422,
   "metadata": {},
   "outputs": [
    {
     "data": {
      "text/plain": [
       "postal_code\n",
       "V6E 3D9    911\n",
       "V5R 1W3    684\n",
       "V6T 1Y8    582\n",
       "V6E 3Z3    544\n",
       "M2M 7K8    534\n",
       "P1J 8T7    500\n",
       "H2T 9K8    499\n",
       "K8V 4B2    486\n",
       "G1B 3L5    485\n",
       "H2T 2J6    446\n",
       "U5I 4F1    444\n",
       "V1E 4R6    443\n",
       "E3B 2H2    425\n",
       "R2C 0M5    415\n",
       "M9K 2P4    401\n",
       "H5Y 2S9    398\n",
       "V10 6T5    389\n",
       "K1F 2R2    389\n",
       "H2Y 2W2    365\n",
       "J8Y 3Z5    358\n",
       "M8Y 4K8    340\n",
       "H4G 3T4    338\n",
       "B3J 9S2    329\n",
       "V6V 8Z3    324\n",
       "P2T 6G3    322\n",
       "H2Y 4R4    315\n",
       "M1R 4K3    313\n",
       "P1L 8X8    282\n",
       "P1W 1K4    275\n",
       "T9G 1W3    266\n",
       "A1C 6H9    258\n",
       "M2Z 4K1    257\n",
       "K8T 5M5    256\n",
       "P5S 6R4    246\n",
       "M5V 1G5    227\n",
       "S6J 3G0    226\n",
       "T3G 6Y6    220\n",
       "E1A 2A7    211\n",
       "T3E 2V9    191\n",
       "B3C 2M8    189\n",
       "S1J 3C5    183\n",
       "T4V 1D4    179\n",
       "M5B 3E4    174\n",
       "M2M 6J7    153\n",
       "R6Y 4T5    143\n",
       "M2P 4F6    126\n",
       "K1G 4Z0    120\n",
       "T9O 2W2    113\n",
       "Y2K 6R0    110\n",
       "R3R 3T4    100\n",
       "H3T 8L4     89\n",
       "V09 2E9     88\n",
       "C1A 6E8     66\n",
       "H3J 5I6      7\n",
       "M3R 4K8      3\n",
       "Name: count, dtype: int64"
      ]
     },
     "execution_count": 422,
     "metadata": {},
     "output_type": "execute_result"
    }
   ],
   "source": [
    "df_history.postal_code.value_counts()\n"
   ]
  },
  {
   "cell_type": "code",
   "execution_count": 423,
   "metadata": {},
   "outputs": [
    {
     "data": {
      "text/plain": [
       "1864"
      ]
     },
     "execution_count": 423,
     "metadata": {},
     "output_type": "execute_result"
    }
   ],
   "source": [
    "# El método duplicated asociado al sum y aplicado a un DataFrame nos permite verificar si hay filas duplicadas en el DataFrame\n",
    "df_activity.duplicated().sum() "
   ]
  },
  {
   "cell_type": "code",
   "execution_count": 424,
   "metadata": {},
   "outputs": [
    {
     "data": {
      "text/plain": [
       "0"
      ]
     },
     "execution_count": 424,
     "metadata": {},
     "output_type": "execute_result"
    }
   ],
   "source": [
    "df_history.duplicated().sum() "
   ]
  },
  {
   "cell_type": "code",
   "execution_count": 425,
   "metadata": {},
   "outputs": [
    {
     "data": {
      "text/plain": [
       "loyalty_number                 0\n",
       "year                           0\n",
       "month                          0\n",
       "flights_booked                 0\n",
       "flights_with_companions        0\n",
       "total_flights                  0\n",
       "distance                       0\n",
       "points_accumulated             0\n",
       "points_redeemed                0\n",
       "dollar_cost_points_redeemed    0\n",
       "dtype: int64"
      ]
     },
     "execution_count": 425,
     "metadata": {},
     "output_type": "execute_result"
    }
   ],
   "source": [
    "# El método isna asociado al sum aplicado a un DataFrame nos permite verificar el conteo de valores nulos por columna.\n",
    "df_activity.isna().sum()"
   ]
  },
  {
   "cell_type": "code",
   "execution_count": 426,
   "metadata": {},
   "outputs": [
    {
     "data": {
      "text/plain": [
       "loyalty_number            0\n",
       "province                  0\n",
       "city                      0\n",
       "postal_code               0\n",
       "gender                    0\n",
       "education                 0\n",
       "salary                 4238\n",
       "marital_status            0\n",
       "loyalty_card              0\n",
       "clv                       0\n",
       "enrollment_type           0\n",
       "enrollment_year           0\n",
       "enrollment_month          0\n",
       "cancellation_year     14670\n",
       "cancellation_month    14670\n",
       "dtype: int64"
      ]
     },
     "execution_count": 426,
     "metadata": {},
     "output_type": "execute_result"
    }
   ],
   "source": [
    "df_history.isna().sum()"
   ]
  },
  {
   "cell_type": "code",
   "execution_count": 427,
   "metadata": {},
   "outputs": [
    {
     "name": "stdout",
     "output_type": "stream",
     "text": [
      "loyalty_number - 388887\n",
      "year - 405622\n",
      "month - 405612\n",
      "flights_booked - 405602\n",
      "flights_with_companions - 405612\n",
      "total_flights - 405591\n",
      "distance - 400878\n",
      "points_accumulated - 404075\n",
      "points_redeemed - 405037\n",
      "dollar_cost_points_redeemed - 405575\n"
     ]
    }
   ],
   "source": [
    "# Con este bucle for verificamos la cantidad de valores duplicados por columna en el DataFrame activity\n",
    "for col in df_activity.columns:\n",
    "    print(f\"{col} - {df_activity[col].duplicated().sum()}\")"
   ]
  },
  {
   "cell_type": "code",
   "execution_count": 428,
   "metadata": {},
   "outputs": [
    {
     "name": "stdout",
     "output_type": "stream",
     "text": [
      "loyalty_number - 0\n",
      "province - 16726\n",
      "city - 16708\n",
      "postal_code - 16682\n",
      "gender - 16735\n",
      "education - 16732\n",
      "salary - 10846\n",
      "marital_status - 16734\n",
      "loyalty_card - 16734\n",
      "clv - 8753\n",
      "enrollment_type - 16735\n",
      "enrollment_year - 16730\n",
      "enrollment_month - 16725\n",
      "cancellation_year - 16730\n",
      "cancellation_month - 16724\n"
     ]
    }
   ],
   "source": [
    "# Con este bucle for verificamos la cantidad de valores duplicados por columna en el DataFrame history\n",
    "for col in df_history.columns:\n",
    "    print(f\"{col} - {df_history[col].duplicated().sum()}\")"
   ]
  },
  {
   "cell_type": "code",
   "execution_count": 429,
   "metadata": {},
   "outputs": [
    {
     "name": "stdout",
     "output_type": "stream",
     "text": [
      "loyalty_number - 16737\n",
      "year - 2\n",
      "month - 12\n",
      "flights_booked - 22\n",
      "flights_with_companions - 12\n",
      "total_flights - 33\n",
      "distance - 4746\n",
      "points_accumulated - 1549\n",
      "points_redeemed - 587\n",
      "dollar_cost_points_redeemed - 49\n"
     ]
    }
   ],
   "source": [
    "# Con este bucle for verificamos el conteo de valores únicos por columna en el DataFrame activity\n",
    "for col in df_activity.columns:\n",
    "    print(f\"{col} - {df_activity[col].nunique()}\")"
   ]
  },
  {
   "cell_type": "code",
   "execution_count": 430,
   "metadata": {},
   "outputs": [
    {
     "name": "stdout",
     "output_type": "stream",
     "text": [
      "loyalty_number - 16737\n",
      "province - 11\n",
      "city - 29\n",
      "postal_code - 55\n",
      "gender - 2\n",
      "education - 5\n",
      "salary - 5890\n",
      "marital_status - 3\n",
      "loyalty_card - 3\n",
      "clv - 7984\n",
      "enrollment_type - 2\n",
      "enrollment_year - 7\n",
      "enrollment_month - 12\n",
      "cancellation_year - 6\n",
      "cancellation_month - 12\n"
     ]
    }
   ],
   "source": [
    "# Con este bucle for verificamos el conteo de valores únicos por columna en el DataFrame history\n",
    "for col in df_history.columns:\n",
    "    print(f\"{col} - {df_history[col].nunique()}\")"
   ]
  },
  {
   "cell_type": "markdown",
   "metadata": {},
   "source": [
    "### Nos damos cuenta de que el conteo de los números únicos de la columna loyalty_number en los 2 conjuntos de datos son iguales."
   ]
  },
  {
   "cell_type": "code",
   "execution_count": 431,
   "metadata": {},
   "outputs": [
    {
     "data": {
      "text/plain": [
       "16737"
      ]
     },
     "execution_count": 431,
     "metadata": {},
     "output_type": "execute_result"
    }
   ],
   "source": [
    "df_activity.loyalty_number.nunique()"
   ]
  },
  {
   "cell_type": "code",
   "execution_count": 432,
   "metadata": {},
   "outputs": [
    {
     "data": {
      "text/plain": [
       "16737"
      ]
     },
     "execution_count": 432,
     "metadata": {},
     "output_type": "execute_result"
    }
   ],
   "source": [
    "df_history.loyalty_number.nunique()"
   ]
  },
  {
   "cell_type": "markdown",
   "metadata": {},
   "source": [
    "Buscamos entender el significado de los valores duplicados en activity para la columna loyalty_number"
   ]
  },
  {
   "cell_type": "code",
   "execution_count": 433,
   "metadata": {},
   "outputs": [
    {
     "data": {
      "text/plain": [
       "loyalty_number\n",
       "678205    72\n",
       "989528    48\n",
       "373638    48\n",
       "684889    48\n",
       "684881    48\n",
       "          ..\n",
       "428526    24\n",
       "428536    24\n",
       "428565    24\n",
       "428590    24\n",
       "999891    24\n",
       "Name: count, Length: 16737, dtype: int64"
      ]
     },
     "execution_count": 433,
     "metadata": {},
     "output_type": "execute_result"
    }
   ],
   "source": [
    "df_activity.loyalty_number.value_counts()"
   ]
  },
  {
   "cell_type": "markdown",
   "metadata": {},
   "source": [
    "Vemos que los valores unicos estraídos del value counts de esta columna son 3."
   ]
  },
  {
   "cell_type": "code",
   "execution_count": 434,
   "metadata": {},
   "outputs": [
    {
     "data": {
      "text/plain": [
       "array([72, 48, 24])"
      ]
     },
     "execution_count": 434,
     "metadata": {},
     "output_type": "execute_result"
    }
   ],
   "source": [
    "df_activity.loyalty_number.value_counts().unique()"
   ]
  },
  {
   "cell_type": "markdown",
   "metadata": {},
   "source": [
    "Intentamos buscar una explicación\n",
    "\n",
    "Filtramos el DataFrame por el loyalty_number que mas se repite y miramos los resultados\n"
   ]
  },
  {
   "cell_type": "code",
   "execution_count": 435,
   "metadata": {},
   "outputs": [
    {
     "data": {
      "text/html": [
       "<div>\n",
       "<style scoped>\n",
       "    .dataframe tbody tr th:only-of-type {\n",
       "        vertical-align: middle;\n",
       "    }\n",
       "\n",
       "    .dataframe tbody tr th {\n",
       "        vertical-align: top;\n",
       "    }\n",
       "\n",
       "    .dataframe thead th {\n",
       "        text-align: right;\n",
       "    }\n",
       "</style>\n",
       "<table border=\"1\" class=\"dataframe\">\n",
       "  <thead>\n",
       "    <tr style=\"text-align: right;\">\n",
       "      <th></th>\n",
       "      <th>loyalty_number</th>\n",
       "      <th>year</th>\n",
       "      <th>month</th>\n",
       "      <th>flights_booked</th>\n",
       "      <th>flights_with_companions</th>\n",
       "      <th>total_flights</th>\n",
       "      <th>distance</th>\n",
       "      <th>points_accumulated</th>\n",
       "      <th>points_redeemed</th>\n",
       "      <th>dollar_cost_points_redeemed</th>\n",
       "    </tr>\n",
       "  </thead>\n",
       "  <tbody>\n",
       "    <tr>\n",
       "      <th>10862</th>\n",
       "      <td>678205</td>\n",
       "      <td>2017</td>\n",
       "      <td>1</td>\n",
       "      <td>0</td>\n",
       "      <td>0</td>\n",
       "      <td>0</td>\n",
       "      <td>0</td>\n",
       "      <td>0.0</td>\n",
       "      <td>0</td>\n",
       "      <td>0</td>\n",
       "    </tr>\n",
       "    <tr>\n",
       "      <th>10863</th>\n",
       "      <td>678205</td>\n",
       "      <td>2017</td>\n",
       "      <td>1</td>\n",
       "      <td>0</td>\n",
       "      <td>0</td>\n",
       "      <td>0</td>\n",
       "      <td>0</td>\n",
       "      <td>0.0</td>\n",
       "      <td>0</td>\n",
       "      <td>0</td>\n",
       "    </tr>\n",
       "    <tr>\n",
       "      <th>10864</th>\n",
       "      <td>678205</td>\n",
       "      <td>2017</td>\n",
       "      <td>1</td>\n",
       "      <td>0</td>\n",
       "      <td>0</td>\n",
       "      <td>0</td>\n",
       "      <td>0</td>\n",
       "      <td>0.0</td>\n",
       "      <td>0</td>\n",
       "      <td>0</td>\n",
       "    </tr>\n",
       "    <tr>\n",
       "      <th>27763</th>\n",
       "      <td>678205</td>\n",
       "      <td>2017</td>\n",
       "      <td>2</td>\n",
       "      <td>0</td>\n",
       "      <td>0</td>\n",
       "      <td>0</td>\n",
       "      <td>0</td>\n",
       "      <td>0.0</td>\n",
       "      <td>0</td>\n",
       "      <td>0</td>\n",
       "    </tr>\n",
       "    <tr>\n",
       "      <th>27764</th>\n",
       "      <td>678205</td>\n",
       "      <td>2017</td>\n",
       "      <td>2</td>\n",
       "      <td>0</td>\n",
       "      <td>0</td>\n",
       "      <td>0</td>\n",
       "      <td>0</td>\n",
       "      <td>0.0</td>\n",
       "      <td>0</td>\n",
       "      <td>0</td>\n",
       "    </tr>\n",
       "    <tr>\n",
       "      <th>27765</th>\n",
       "      <td>678205</td>\n",
       "      <td>2017</td>\n",
       "      <td>2</td>\n",
       "      <td>0</td>\n",
       "      <td>0</td>\n",
       "      <td>0</td>\n",
       "      <td>0</td>\n",
       "      <td>0.0</td>\n",
       "      <td>0</td>\n",
       "      <td>0</td>\n",
       "    </tr>\n",
       "    <tr>\n",
       "      <th>44664</th>\n",
       "      <td>678205</td>\n",
       "      <td>2017</td>\n",
       "      <td>3</td>\n",
       "      <td>0</td>\n",
       "      <td>0</td>\n",
       "      <td>0</td>\n",
       "      <td>0</td>\n",
       "      <td>0.0</td>\n",
       "      <td>0</td>\n",
       "      <td>0</td>\n",
       "    </tr>\n",
       "    <tr>\n",
       "      <th>44665</th>\n",
       "      <td>678205</td>\n",
       "      <td>2017</td>\n",
       "      <td>3</td>\n",
       "      <td>0</td>\n",
       "      <td>0</td>\n",
       "      <td>0</td>\n",
       "      <td>0</td>\n",
       "      <td>0.0</td>\n",
       "      <td>0</td>\n",
       "      <td>0</td>\n",
       "    </tr>\n",
       "    <tr>\n",
       "      <th>44666</th>\n",
       "      <td>678205</td>\n",
       "      <td>2017</td>\n",
       "      <td>3</td>\n",
       "      <td>0</td>\n",
       "      <td>0</td>\n",
       "      <td>0</td>\n",
       "      <td>0</td>\n",
       "      <td>0.0</td>\n",
       "      <td>0</td>\n",
       "      <td>0</td>\n",
       "    </tr>\n",
       "    <tr>\n",
       "      <th>61565</th>\n",
       "      <td>678205</td>\n",
       "      <td>2017</td>\n",
       "      <td>4</td>\n",
       "      <td>0</td>\n",
       "      <td>0</td>\n",
       "      <td>0</td>\n",
       "      <td>0</td>\n",
       "      <td>0.0</td>\n",
       "      <td>0</td>\n",
       "      <td>0</td>\n",
       "    </tr>\n",
       "  </tbody>\n",
       "</table>\n",
       "</div>"
      ],
      "text/plain": [
       "       loyalty_number  year  month  flights_booked  flights_with_companions  \\\n",
       "10862          678205  2017      1               0                        0   \n",
       "10863          678205  2017      1               0                        0   \n",
       "10864          678205  2017      1               0                        0   \n",
       "27763          678205  2017      2               0                        0   \n",
       "27764          678205  2017      2               0                        0   \n",
       "27765          678205  2017      2               0                        0   \n",
       "44664          678205  2017      3               0                        0   \n",
       "44665          678205  2017      3               0                        0   \n",
       "44666          678205  2017      3               0                        0   \n",
       "61565          678205  2017      4               0                        0   \n",
       "\n",
       "       total_flights  distance  points_accumulated  points_redeemed  \\\n",
       "10862              0         0                 0.0                0   \n",
       "10863              0         0                 0.0                0   \n",
       "10864              0         0                 0.0                0   \n",
       "27763              0         0                 0.0                0   \n",
       "27764              0         0                 0.0                0   \n",
       "27765              0         0                 0.0                0   \n",
       "44664              0         0                 0.0                0   \n",
       "44665              0         0                 0.0                0   \n",
       "44666              0         0                 0.0                0   \n",
       "61565              0         0                 0.0                0   \n",
       "\n",
       "       dollar_cost_points_redeemed  \n",
       "10862                            0  \n",
       "10863                            0  \n",
       "10864                            0  \n",
       "27763                            0  \n",
       "27764                            0  \n",
       "27765                            0  \n",
       "44664                            0  \n",
       "44665                            0  \n",
       "44666                            0  \n",
       "61565                            0  "
      ]
     },
     "execution_count": 435,
     "metadata": {},
     "output_type": "execute_result"
    }
   ],
   "source": [
    "df_activity[df_activity.loyalty_number == 678205].sort_values(by=['year', 'month'])[:10]\n",
    "# Vemos que para este cliente que se repite 72 veces, hay 3 filas para cada mes, o sea, 12 meses al año x 3 filas = 36, x 2 años = 72."
   ]
  },
  {
   "cell_type": "markdown",
   "metadata": {},
   "source": [
    "Ahora veamos que ocurre con un loyalty number que repite 48 veces"
   ]
  },
  {
   "cell_type": "code",
   "execution_count": 436,
   "metadata": {},
   "outputs": [
    {
     "data": {
      "text/html": [
       "<div>\n",
       "<style scoped>\n",
       "    .dataframe tbody tr th:only-of-type {\n",
       "        vertical-align: middle;\n",
       "    }\n",
       "\n",
       "    .dataframe tbody tr th {\n",
       "        vertical-align: top;\n",
       "    }\n",
       "\n",
       "    .dataframe thead th {\n",
       "        text-align: right;\n",
       "    }\n",
       "</style>\n",
       "<table border=\"1\" class=\"dataframe\">\n",
       "  <thead>\n",
       "    <tr style=\"text-align: right;\">\n",
       "      <th></th>\n",
       "      <th>loyalty_number</th>\n",
       "      <th>year</th>\n",
       "      <th>month</th>\n",
       "      <th>flights_booked</th>\n",
       "      <th>flights_with_companions</th>\n",
       "      <th>total_flights</th>\n",
       "      <th>distance</th>\n",
       "      <th>points_accumulated</th>\n",
       "      <th>points_redeemed</th>\n",
       "      <th>dollar_cost_points_redeemed</th>\n",
       "    </tr>\n",
       "  </thead>\n",
       "  <tbody>\n",
       "    <tr>\n",
       "      <th>16713</th>\n",
       "      <td>989528</td>\n",
       "      <td>2017</td>\n",
       "      <td>1</td>\n",
       "      <td>0</td>\n",
       "      <td>0</td>\n",
       "      <td>0</td>\n",
       "      <td>0</td>\n",
       "      <td>0.0</td>\n",
       "      <td>0</td>\n",
       "      <td>0</td>\n",
       "    </tr>\n",
       "    <tr>\n",
       "      <th>16714</th>\n",
       "      <td>989528</td>\n",
       "      <td>2017</td>\n",
       "      <td>1</td>\n",
       "      <td>0</td>\n",
       "      <td>0</td>\n",
       "      <td>0</td>\n",
       "      <td>0</td>\n",
       "      <td>0.0</td>\n",
       "      <td>0</td>\n",
       "      <td>0</td>\n",
       "    </tr>\n",
       "    <tr>\n",
       "      <th>33614</th>\n",
       "      <td>989528</td>\n",
       "      <td>2017</td>\n",
       "      <td>2</td>\n",
       "      <td>0</td>\n",
       "      <td>0</td>\n",
       "      <td>0</td>\n",
       "      <td>0</td>\n",
       "      <td>0.0</td>\n",
       "      <td>0</td>\n",
       "      <td>0</td>\n",
       "    </tr>\n",
       "    <tr>\n",
       "      <th>33615</th>\n",
       "      <td>989528</td>\n",
       "      <td>2017</td>\n",
       "      <td>2</td>\n",
       "      <td>0</td>\n",
       "      <td>0</td>\n",
       "      <td>0</td>\n",
       "      <td>0</td>\n",
       "      <td>0.0</td>\n",
       "      <td>0</td>\n",
       "      <td>0</td>\n",
       "    </tr>\n",
       "    <tr>\n",
       "      <th>50515</th>\n",
       "      <td>989528</td>\n",
       "      <td>2017</td>\n",
       "      <td>3</td>\n",
       "      <td>0</td>\n",
       "      <td>0</td>\n",
       "      <td>0</td>\n",
       "      <td>0</td>\n",
       "      <td>0.0</td>\n",
       "      <td>0</td>\n",
       "      <td>0</td>\n",
       "    </tr>\n",
       "    <tr>\n",
       "      <th>50516</th>\n",
       "      <td>989528</td>\n",
       "      <td>2017</td>\n",
       "      <td>3</td>\n",
       "      <td>0</td>\n",
       "      <td>0</td>\n",
       "      <td>0</td>\n",
       "      <td>0</td>\n",
       "      <td>0.0</td>\n",
       "      <td>0</td>\n",
       "      <td>0</td>\n",
       "    </tr>\n",
       "    <tr>\n",
       "      <th>67416</th>\n",
       "      <td>989528</td>\n",
       "      <td>2017</td>\n",
       "      <td>4</td>\n",
       "      <td>0</td>\n",
       "      <td>0</td>\n",
       "      <td>0</td>\n",
       "      <td>0</td>\n",
       "      <td>0.0</td>\n",
       "      <td>0</td>\n",
       "      <td>0</td>\n",
       "    </tr>\n",
       "    <tr>\n",
       "      <th>67417</th>\n",
       "      <td>989528</td>\n",
       "      <td>2017</td>\n",
       "      <td>4</td>\n",
       "      <td>0</td>\n",
       "      <td>0</td>\n",
       "      <td>0</td>\n",
       "      <td>0</td>\n",
       "      <td>0.0</td>\n",
       "      <td>0</td>\n",
       "      <td>0</td>\n",
       "    </tr>\n",
       "    <tr>\n",
       "      <th>84317</th>\n",
       "      <td>989528</td>\n",
       "      <td>2017</td>\n",
       "      <td>5</td>\n",
       "      <td>0</td>\n",
       "      <td>0</td>\n",
       "      <td>0</td>\n",
       "      <td>0</td>\n",
       "      <td>0.0</td>\n",
       "      <td>0</td>\n",
       "      <td>0</td>\n",
       "    </tr>\n",
       "    <tr>\n",
       "      <th>84318</th>\n",
       "      <td>989528</td>\n",
       "      <td>2017</td>\n",
       "      <td>5</td>\n",
       "      <td>0</td>\n",
       "      <td>0</td>\n",
       "      <td>0</td>\n",
       "      <td>0</td>\n",
       "      <td>0.0</td>\n",
       "      <td>0</td>\n",
       "      <td>0</td>\n",
       "    </tr>\n",
       "  </tbody>\n",
       "</table>\n",
       "</div>"
      ],
      "text/plain": [
       "       loyalty_number  year  month  flights_booked  flights_with_companions  \\\n",
       "16713          989528  2017      1               0                        0   \n",
       "16714          989528  2017      1               0                        0   \n",
       "33614          989528  2017      2               0                        0   \n",
       "33615          989528  2017      2               0                        0   \n",
       "50515          989528  2017      3               0                        0   \n",
       "50516          989528  2017      3               0                        0   \n",
       "67416          989528  2017      4               0                        0   \n",
       "67417          989528  2017      4               0                        0   \n",
       "84317          989528  2017      5               0                        0   \n",
       "84318          989528  2017      5               0                        0   \n",
       "\n",
       "       total_flights  distance  points_accumulated  points_redeemed  \\\n",
       "16713              0         0                 0.0                0   \n",
       "16714              0         0                 0.0                0   \n",
       "33614              0         0                 0.0                0   \n",
       "33615              0         0                 0.0                0   \n",
       "50515              0         0                 0.0                0   \n",
       "50516              0         0                 0.0                0   \n",
       "67416              0         0                 0.0                0   \n",
       "67417              0         0                 0.0                0   \n",
       "84317              0         0                 0.0                0   \n",
       "84318              0         0                 0.0                0   \n",
       "\n",
       "       dollar_cost_points_redeemed  \n",
       "16713                            0  \n",
       "16714                            0  \n",
       "33614                            0  \n",
       "33615                            0  \n",
       "50515                            0  \n",
       "50516                            0  \n",
       "67416                            0  \n",
       "67417                            0  \n",
       "84317                            0  \n",
       "84318                            0  "
      ]
     },
     "execution_count": 436,
     "metadata": {},
     "output_type": "execute_result"
    }
   ],
   "source": [
    "df_activity[df_activity.loyalty_number == 989528].sort_values(by=['year', 'month'])[:10]\n",
    "# Vemos que para este cliente que se repite 48 veces, hay 2 filas para cada mes, o sea, 12 meses al año x 2 filas = 24, x 2 años = 48."
   ]
  },
  {
   "cell_type": "markdown",
   "metadata": {},
   "source": [
    "Ahora veamos que ocurre con un loyalty number que repite 24 veces"
   ]
  },
  {
   "cell_type": "code",
   "execution_count": 437,
   "metadata": {},
   "outputs": [
    {
     "data": {
      "text/html": [
       "<div>\n",
       "<style scoped>\n",
       "    .dataframe tbody tr th:only-of-type {\n",
       "        vertical-align: middle;\n",
       "    }\n",
       "\n",
       "    .dataframe tbody tr th {\n",
       "        vertical-align: top;\n",
       "    }\n",
       "\n",
       "    .dataframe thead th {\n",
       "        text-align: right;\n",
       "    }\n",
       "</style>\n",
       "<table border=\"1\" class=\"dataframe\">\n",
       "  <thead>\n",
       "    <tr style=\"text-align: right;\">\n",
       "      <th></th>\n",
       "      <th>loyalty_number</th>\n",
       "      <th>year</th>\n",
       "      <th>month</th>\n",
       "      <th>flights_booked</th>\n",
       "      <th>flights_with_companions</th>\n",
       "      <th>total_flights</th>\n",
       "      <th>distance</th>\n",
       "      <th>points_accumulated</th>\n",
       "      <th>points_redeemed</th>\n",
       "      <th>dollar_cost_points_redeemed</th>\n",
       "    </tr>\n",
       "  </thead>\n",
       "  <tbody>\n",
       "    <tr>\n",
       "      <th>6130</th>\n",
       "      <td>428526</td>\n",
       "      <td>2017</td>\n",
       "      <td>1</td>\n",
       "      <td>12</td>\n",
       "      <td>3</td>\n",
       "      <td>15</td>\n",
       "      <td>3105</td>\n",
       "      <td>310.0</td>\n",
       "      <td>0</td>\n",
       "      <td>0</td>\n",
       "    </tr>\n",
       "    <tr>\n",
       "      <th>23031</th>\n",
       "      <td>428526</td>\n",
       "      <td>2017</td>\n",
       "      <td>2</td>\n",
       "      <td>0</td>\n",
       "      <td>0</td>\n",
       "      <td>0</td>\n",
       "      <td>0</td>\n",
       "      <td>0.0</td>\n",
       "      <td>0</td>\n",
       "      <td>0</td>\n",
       "    </tr>\n",
       "    <tr>\n",
       "      <th>39932</th>\n",
       "      <td>428526</td>\n",
       "      <td>2017</td>\n",
       "      <td>3</td>\n",
       "      <td>0</td>\n",
       "      <td>0</td>\n",
       "      <td>0</td>\n",
       "      <td>0</td>\n",
       "      <td>0.0</td>\n",
       "      <td>0</td>\n",
       "      <td>0</td>\n",
       "    </tr>\n",
       "    <tr>\n",
       "      <th>56833</th>\n",
       "      <td>428526</td>\n",
       "      <td>2017</td>\n",
       "      <td>4</td>\n",
       "      <td>0</td>\n",
       "      <td>0</td>\n",
       "      <td>0</td>\n",
       "      <td>0</td>\n",
       "      <td>0.0</td>\n",
       "      <td>0</td>\n",
       "      <td>0</td>\n",
       "    </tr>\n",
       "    <tr>\n",
       "      <th>73734</th>\n",
       "      <td>428526</td>\n",
       "      <td>2017</td>\n",
       "      <td>5</td>\n",
       "      <td>0</td>\n",
       "      <td>0</td>\n",
       "      <td>0</td>\n",
       "      <td>0</td>\n",
       "      <td>0.0</td>\n",
       "      <td>0</td>\n",
       "      <td>0</td>\n",
       "    </tr>\n",
       "    <tr>\n",
       "      <th>90635</th>\n",
       "      <td>428526</td>\n",
       "      <td>2017</td>\n",
       "      <td>6</td>\n",
       "      <td>0</td>\n",
       "      <td>0</td>\n",
       "      <td>0</td>\n",
       "      <td>0</td>\n",
       "      <td>0.0</td>\n",
       "      <td>0</td>\n",
       "      <td>0</td>\n",
       "    </tr>\n",
       "    <tr>\n",
       "      <th>390119</th>\n",
       "      <td>428526</td>\n",
       "      <td>2017</td>\n",
       "      <td>7</td>\n",
       "      <td>13</td>\n",
       "      <td>5</td>\n",
       "      <td>18</td>\n",
       "      <td>1350</td>\n",
       "      <td>135.0</td>\n",
       "      <td>677</td>\n",
       "      <td>55</td>\n",
       "    </tr>\n",
       "    <tr>\n",
       "      <th>124437</th>\n",
       "      <td>428526</td>\n",
       "      <td>2017</td>\n",
       "      <td>8</td>\n",
       "      <td>0</td>\n",
       "      <td>0</td>\n",
       "      <td>0</td>\n",
       "      <td>0</td>\n",
       "      <td>0.0</td>\n",
       "      <td>0</td>\n",
       "      <td>0</td>\n",
       "    </tr>\n",
       "    <tr>\n",
       "      <th>141338</th>\n",
       "      <td>428526</td>\n",
       "      <td>2017</td>\n",
       "      <td>9</td>\n",
       "      <td>15</td>\n",
       "      <td>0</td>\n",
       "      <td>15</td>\n",
       "      <td>2025</td>\n",
       "      <td>202.0</td>\n",
       "      <td>0</td>\n",
       "      <td>0</td>\n",
       "    </tr>\n",
       "    <tr>\n",
       "      <th>158239</th>\n",
       "      <td>428526</td>\n",
       "      <td>2017</td>\n",
       "      <td>10</td>\n",
       "      <td>7</td>\n",
       "      <td>0</td>\n",
       "      <td>7</td>\n",
       "      <td>798</td>\n",
       "      <td>79.0</td>\n",
       "      <td>0</td>\n",
       "      <td>0</td>\n",
       "    </tr>\n",
       "  </tbody>\n",
       "</table>\n",
       "</div>"
      ],
      "text/plain": [
       "        loyalty_number  year  month  flights_booked  flights_with_companions  \\\n",
       "6130            428526  2017      1              12                        3   \n",
       "23031           428526  2017      2               0                        0   \n",
       "39932           428526  2017      3               0                        0   \n",
       "56833           428526  2017      4               0                        0   \n",
       "73734           428526  2017      5               0                        0   \n",
       "90635           428526  2017      6               0                        0   \n",
       "390119          428526  2017      7              13                        5   \n",
       "124437          428526  2017      8               0                        0   \n",
       "141338          428526  2017      9              15                        0   \n",
       "158239          428526  2017     10               7                        0   \n",
       "\n",
       "        total_flights  distance  points_accumulated  points_redeemed  \\\n",
       "6130               15      3105               310.0                0   \n",
       "23031               0         0                 0.0                0   \n",
       "39932               0         0                 0.0                0   \n",
       "56833               0         0                 0.0                0   \n",
       "73734               0         0                 0.0                0   \n",
       "90635               0         0                 0.0                0   \n",
       "390119             18      1350               135.0              677   \n",
       "124437              0         0                 0.0                0   \n",
       "141338             15      2025               202.0                0   \n",
       "158239              7       798                79.0                0   \n",
       "\n",
       "        dollar_cost_points_redeemed  \n",
       "6130                              0  \n",
       "23031                             0  \n",
       "39932                             0  \n",
       "56833                             0  \n",
       "73734                             0  \n",
       "90635                             0  \n",
       "390119                           55  \n",
       "124437                            0  \n",
       "141338                            0  \n",
       "158239                            0  "
      ]
     },
     "execution_count": 437,
     "metadata": {},
     "output_type": "execute_result"
    }
   ],
   "source": [
    "df_activity[df_activity.loyalty_number == 428526].sort_values(by=['year', 'month'])[:10]\n",
    "# Vemos que para este cliente que se repite 24 veces, hay 1 fila para cada mes, o sea, 12 meses al año x 1 filas = 12, x 2 años = 24."
   ]
  },
  {
   "cell_type": "markdown",
   "metadata": {},
   "source": [
    "* Parece tratarse de un seguimiento mensual de la actividad de los clientes. Las filas con valores 0 indican que en estos meses el cliente no tuvo cambios en su actividad. \n",
    "* También vemos que parece haber un seguimiento que ocurre 1, 2 o 3 veces al mes para actualizar los datos de la actividad de los clientes."
   ]
  },
  {
   "cell_type": "markdown",
   "metadata": {},
   "source": [
    "Vamos a buscar diferencias entre estos 3 tipos de cliente para ver si encontramos algun patrón"
   ]
  },
  {
   "cell_type": "code",
   "execution_count": 438,
   "metadata": {},
   "outputs": [
    {
     "data": {
      "text/html": [
       "<div>\n",
       "<style scoped>\n",
       "    .dataframe tbody tr th:only-of-type {\n",
       "        vertical-align: middle;\n",
       "    }\n",
       "\n",
       "    .dataframe tbody tr th {\n",
       "        vertical-align: top;\n",
       "    }\n",
       "\n",
       "    .dataframe thead th {\n",
       "        text-align: right;\n",
       "    }\n",
       "</style>\n",
       "<table border=\"1\" class=\"dataframe\">\n",
       "  <thead>\n",
       "    <tr style=\"text-align: right;\">\n",
       "      <th></th>\n",
       "      <th>loyalty_number</th>\n",
       "      <th>province</th>\n",
       "      <th>city</th>\n",
       "      <th>postal_code</th>\n",
       "      <th>gender</th>\n",
       "      <th>education</th>\n",
       "      <th>salary</th>\n",
       "      <th>marital_status</th>\n",
       "      <th>loyalty_card</th>\n",
       "      <th>clv</th>\n",
       "      <th>enrollment_type</th>\n",
       "      <th>enrollment_year</th>\n",
       "      <th>enrollment_month</th>\n",
       "      <th>cancellation_year</th>\n",
       "      <th>cancellation_month</th>\n",
       "    </tr>\n",
       "  </thead>\n",
       "  <tbody>\n",
       "    <tr>\n",
       "      <th>5022</th>\n",
       "      <td>989528</td>\n",
       "      <td>Quebec</td>\n",
       "      <td>Montreal</td>\n",
       "      <td>H2T 2J6</td>\n",
       "      <td>Female</td>\n",
       "      <td>College</td>\n",
       "      <td>NaN</td>\n",
       "      <td>Divorced</td>\n",
       "      <td>Nova</td>\n",
       "      <td>3370.07</td>\n",
       "      <td>Standard</td>\n",
       "      <td>2017</td>\n",
       "      <td>5</td>\n",
       "      <td>NaN</td>\n",
       "      <td>NaN</td>\n",
       "    </tr>\n",
       "    <tr>\n",
       "      <th>7608</th>\n",
       "      <td>428526</td>\n",
       "      <td>Ontario</td>\n",
       "      <td>Toronto</td>\n",
       "      <td>P2T 6G3</td>\n",
       "      <td>Male</td>\n",
       "      <td>College</td>\n",
       "      <td>NaN</td>\n",
       "      <td>Married</td>\n",
       "      <td>Nova</td>\n",
       "      <td>7374.08</td>\n",
       "      <td>Standard</td>\n",
       "      <td>2018</td>\n",
       "      <td>11</td>\n",
       "      <td>NaN</td>\n",
       "      <td>NaN</td>\n",
       "    </tr>\n",
       "    <tr>\n",
       "      <th>9490</th>\n",
       "      <td>678205</td>\n",
       "      <td>Quebec</td>\n",
       "      <td>Hull</td>\n",
       "      <td>J8Y 3Z5</td>\n",
       "      <td>Male</td>\n",
       "      <td>Bachelor</td>\n",
       "      <td>67358.0</td>\n",
       "      <td>Married</td>\n",
       "      <td>Nova</td>\n",
       "      <td>20230.97</td>\n",
       "      <td>Standard</td>\n",
       "      <td>2015</td>\n",
       "      <td>9</td>\n",
       "      <td>NaN</td>\n",
       "      <td>NaN</td>\n",
       "    </tr>\n",
       "  </tbody>\n",
       "</table>\n",
       "</div>"
      ],
      "text/plain": [
       "      loyalty_number province      city postal_code  gender education  \\\n",
       "5022          989528   Quebec  Montreal     H2T 2J6  Female   College   \n",
       "7608          428526  Ontario   Toronto     P2T 6G3    Male   College   \n",
       "9490          678205   Quebec      Hull     J8Y 3Z5    Male  Bachelor   \n",
       "\n",
       "       salary marital_status loyalty_card       clv enrollment_type  \\\n",
       "5022      NaN       Divorced         Nova   3370.07        Standard   \n",
       "7608      NaN        Married         Nova   7374.08        Standard   \n",
       "9490  67358.0        Married         Nova  20230.97        Standard   \n",
       "\n",
       "      enrollment_year  enrollment_month  cancellation_year  cancellation_month  \n",
       "5022             2017                 5                NaN                 NaN  \n",
       "7608             2018                11                NaN                 NaN  \n",
       "9490             2015                 9                NaN                 NaN  "
      ]
     },
     "execution_count": 438,
     "metadata": {},
     "output_type": "execute_result"
    }
   ],
   "source": [
    "clients = [678205, 989528, 428526]\n",
    "df_history[(df_history.loyalty_number == 678205) | (df_history.loyalty_number == 989528) | (df_history.loyalty_number == 428526)]"
   ]
  },
  {
   "cell_type": "markdown",
   "metadata": {},
   "source": [
    "Quizás estos duplicados puedan estar realcionados con el loyalty_card y el enrollment_type, el análisis podría seguir por este camino, pero antes, veremos el porcentaje de datos atípicos dentro del conjunto para decidir si merece la pena profundizar por este camino."
   ]
  },
  {
   "cell_type": "markdown",
   "metadata": {},
   "source": [
    "Calculamos el porcentaje de estos 3 valores dentro del conjunto de datos"
   ]
  },
  {
   "cell_type": "code",
   "execution_count": 439,
   "metadata": {},
   "outputs": [
    {
     "data": {
      "text/plain": [
       "count\n",
       "24    99.03\n",
       "48     0.97\n",
       "72     0.01\n",
       "Name: count, dtype: float64"
      ]
     },
     "execution_count": 439,
     "metadata": {},
     "output_type": "execute_result"
    }
   ],
   "source": [
    "round((df_activity.loyalty_number.value_counts().value_counts()/df_activity.loyalty_number.nunique())*100, 2)"
   ]
  },
  {
   "cell_type": "markdown",
   "metadata": {},
   "source": [
    "* Vemos que el seguimiento mensual que ocurre 1 vez al mes es dominante\n",
    "* Ya que hay un grupo dominante del seguimiento de la actividad que ocurre 1 vez al mes y los demás grupos tienen un porcentaje muy bajo, vamos a buscar un patrón para eliminar los duplicados y patronizar los datos."
   ]
  },
  {
   "cell_type": "code",
   "execution_count": 440,
   "metadata": {},
   "outputs": [
    {
     "data": {
      "text/html": [
       "<div>\n",
       "<style scoped>\n",
       "    .dataframe tbody tr th:only-of-type {\n",
       "        vertical-align: middle;\n",
       "    }\n",
       "\n",
       "    .dataframe tbody tr th {\n",
       "        vertical-align: top;\n",
       "    }\n",
       "\n",
       "    .dataframe thead th {\n",
       "        text-align: right;\n",
       "    }\n",
       "</style>\n",
       "<table border=\"1\" class=\"dataframe\">\n",
       "  <thead>\n",
       "    <tr style=\"text-align: right;\">\n",
       "      <th></th>\n",
       "      <th>loyalty_number</th>\n",
       "      <th>year</th>\n",
       "      <th>month</th>\n",
       "      <th>flights_booked</th>\n",
       "      <th>flights_with_companions</th>\n",
       "      <th>total_flights</th>\n",
       "      <th>distance</th>\n",
       "      <th>points_accumulated</th>\n",
       "      <th>points_redeemed</th>\n",
       "      <th>dollar_cost_points_redeemed</th>\n",
       "    </tr>\n",
       "  </thead>\n",
       "  <tbody>\n",
       "    <tr>\n",
       "      <th>84546</th>\n",
       "      <td>101902</td>\n",
       "      <td>2017</td>\n",
       "      <td>6</td>\n",
       "      <td>10</td>\n",
       "      <td>5</td>\n",
       "      <td>15</td>\n",
       "      <td>3015</td>\n",
       "      <td>301.0</td>\n",
       "      <td>0</td>\n",
       "      <td>0</td>\n",
       "    </tr>\n",
       "    <tr>\n",
       "      <th>84547</th>\n",
       "      <td>101902</td>\n",
       "      <td>2017</td>\n",
       "      <td>6</td>\n",
       "      <td>9</td>\n",
       "      <td>0</td>\n",
       "      <td>9</td>\n",
       "      <td>1521</td>\n",
       "      <td>152.0</td>\n",
       "      <td>0</td>\n",
       "      <td>0</td>\n",
       "    </tr>\n",
       "    <tr>\n",
       "      <th>101447</th>\n",
       "      <td>101902</td>\n",
       "      <td>2017</td>\n",
       "      <td>7</td>\n",
       "      <td>0</td>\n",
       "      <td>0</td>\n",
       "      <td>0</td>\n",
       "      <td>0</td>\n",
       "      <td>0.0</td>\n",
       "      <td>0</td>\n",
       "      <td>0</td>\n",
       "    </tr>\n",
       "    <tr>\n",
       "      <th>101448</th>\n",
       "      <td>101902</td>\n",
       "      <td>2017</td>\n",
       "      <td>7</td>\n",
       "      <td>0</td>\n",
       "      <td>0</td>\n",
       "      <td>0</td>\n",
       "      <td>0</td>\n",
       "      <td>0.0</td>\n",
       "      <td>0</td>\n",
       "      <td>0</td>\n",
       "    </tr>\n",
       "    <tr>\n",
       "      <th>118348</th>\n",
       "      <td>101902</td>\n",
       "      <td>2017</td>\n",
       "      <td>8</td>\n",
       "      <td>17</td>\n",
       "      <td>0</td>\n",
       "      <td>17</td>\n",
       "      <td>3893</td>\n",
       "      <td>389.0</td>\n",
       "      <td>0</td>\n",
       "      <td>0</td>\n",
       "    </tr>\n",
       "  </tbody>\n",
       "</table>\n",
       "</div>"
      ],
      "text/plain": [
       "        loyalty_number  year  month  flights_booked  flights_with_companions  \\\n",
       "84546           101902  2017      6              10                        5   \n",
       "84547           101902  2017      6               9                        0   \n",
       "101447          101902  2017      7               0                        0   \n",
       "101448          101902  2017      7               0                        0   \n",
       "118348          101902  2017      8              17                        0   \n",
       "\n",
       "        total_flights  distance  points_accumulated  points_redeemed  \\\n",
       "84546              15      3015               301.0                0   \n",
       "84547               9      1521               152.0                0   \n",
       "101447              0         0                 0.0                0   \n",
       "101448              0         0                 0.0                0   \n",
       "118348             17      3893               389.0                0   \n",
       "\n",
       "        dollar_cost_points_redeemed  \n",
       "84546                             0  \n",
       "84547                             0  \n",
       "101447                            0  \n",
       "101448                            0  \n",
       "118348                            0  "
      ]
     },
     "execution_count": 440,
     "metadata": {},
     "output_type": "execute_result"
    }
   ],
   "source": [
    "loyalty_counts = df_activity.loyalty_number.value_counts()\n",
    "\n",
    "# Identificar los loyalty_number con 48 y 72 ocurrencias\n",
    "loyalty_48_72 = loyalty_counts[(loyalty_counts == 48) | (loyalty_counts == 72)].index\n",
    "\n",
    "# Filtrar el DataFrame para obtener solo los registros de estos loyalty_number\n",
    "df_loyalty_48_72 = df_activity[df_activity.loyalty_number.isin(loyalty_48_72)]\n",
    "df_loyalty_48_72.sort_values(by=['loyalty_number', 'year', 'month'])[10:15]"
   ]
  },
  {
   "cell_type": "markdown",
   "metadata": {},
   "source": [
    "* Hemos buscado un patrón para decidir las filas a eliminar pero no hay una posible razón que confirme esta decisión, así que decidimos hacer un drop duplicates para este grupo sabiendo que representan el 1% del total. De esta menera mantendremos todos los loyalty_numbers en el análisis ya que tienen relación con el df_history."
   ]
  },
  {
   "cell_type": "code",
   "execution_count": 441,
   "metadata": {},
   "outputs": [
    {
     "data": {
      "text/plain": [
       "(405624, 10)"
      ]
     },
     "execution_count": 441,
     "metadata": {},
     "output_type": "execute_result"
    }
   ],
   "source": [
    "# Verificamos la cantidade de datos\n",
    "df_activity.shape"
   ]
  },
  {
   "cell_type": "code",
   "execution_count": 442,
   "metadata": {},
   "outputs": [
    {
     "data": {
      "text/plain": [
       "(401688, 10)"
      ]
     },
     "execution_count": 442,
     "metadata": {},
     "output_type": "execute_result"
    }
   ],
   "source": [
    "# Eliminamos duplicados quedándonos con la última ocurrencia por cada combinación de loyalty_number, year y month\n",
    "df_activity_cleaned = df_activity.drop_duplicates(subset=['loyalty_number', 'year', 'month'], keep='last')\n",
    "df_activity_cleaned.shape"
   ]
  },
  {
   "cell_type": "code",
   "execution_count": 443,
   "metadata": {},
   "outputs": [
    {
     "data": {
      "text/plain": [
       "loyalty_number\n",
       "100018    24\n",
       "762446    24\n",
       "762485    24\n",
       "762562    24\n",
       "762671    24\n",
       "          ..\n",
       "427444    24\n",
       "427733    24\n",
       "427804    24\n",
       "427919    24\n",
       "999891    24\n",
       "Name: count, Length: 16737, dtype: int64"
      ]
     },
     "execution_count": 443,
     "metadata": {},
     "output_type": "execute_result"
    }
   ],
   "source": [
    "# Verificamos que tenemos 24 ocurrencias para cada loyalty_number\n",
    "df_activity_cleaned.loyalty_number.value_counts()"
   ]
  },
  {
   "cell_type": "code",
   "execution_count": 444,
   "metadata": {},
   "outputs": [
    {
     "data": {
      "text/plain": [
       "True"
      ]
     },
     "execution_count": 444,
     "metadata": {},
     "output_type": "execute_result"
    }
   ],
   "source": [
    "# Verificamos que no se han eliminado loyalty_numbers\n",
    "df_activity_cleaned.loyalty_number.nunique() == df_history.loyalty_number.nunique()"
   ]
  },
  {
   "cell_type": "markdown",
   "metadata": {},
   "source": []
  },
  {
   "cell_type": "code",
   "execution_count": null,
   "metadata": {},
   "outputs": [],
   "source": []
  }
 ],
 "metadata": {
  "language_info": {
   "name": "python"
  }
 },
 "nbformat": 4,
 "nbformat_minor": 2
}
